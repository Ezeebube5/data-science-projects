{
 "cells": [
  {
   "cell_type": "markdown",
   "metadata": {},
   "source": [
    "### Gather Data - Libraries and input files"
   ]
  },
  {
   "cell_type": "code",
   "execution_count": 146,
   "metadata": {},
   "outputs": [],
   "source": [
    "# import libraries\n",
    "import pandas as pd\n",
    "import matplotlib.pyplot as plt\n",
    "import seaborn as sns\n",
    "import numpy as np\n",
    "import os\n",
    "%matplotlib inline"
   ]
  },
  {
   "cell_type": "code",
   "execution_count": 207,
   "metadata": {},
   "outputs": [
    {
     "data": {
      "text/html": [
       "<div>\n",
       "<style scoped>\n",
       "    .dataframe tbody tr th:only-of-type {\n",
       "        vertical-align: middle;\n",
       "    }\n",
       "\n",
       "    .dataframe tbody tr th {\n",
       "        vertical-align: top;\n",
       "    }\n",
       "\n",
       "    .dataframe thead th {\n",
       "        text-align: right;\n",
       "    }\n",
       "</style>\n",
       "<table border=\"1\" class=\"dataframe\">\n",
       "  <thead>\n",
       "    <tr style=\"text-align: right;\">\n",
       "      <th></th>\n",
       "      <th>Professional</th>\n",
       "      <th>ProgramHobby</th>\n",
       "      <th>Country</th>\n",
       "      <th>University</th>\n",
       "      <th>EmploymentStatus</th>\n",
       "      <th>FormalEducation</th>\n",
       "      <th>MajorUndergrad</th>\n",
       "      <th>HomeRemote</th>\n",
       "      <th>CompanySize</th>\n",
       "      <th>CompanyType</th>\n",
       "      <th>...</th>\n",
       "      <th>StackOverflowMakeMoney</th>\n",
       "      <th>Gender</th>\n",
       "      <th>HighestEducationParents</th>\n",
       "      <th>Race</th>\n",
       "      <th>SurveyLong</th>\n",
       "      <th>QuestionsInteresting</th>\n",
       "      <th>QuestionsConfusing</th>\n",
       "      <th>InterestedAnswers</th>\n",
       "      <th>Salary</th>\n",
       "      <th>ExpectedSalary</th>\n",
       "    </tr>\n",
       "    <tr>\n",
       "      <th>Respondent</th>\n",
       "      <th></th>\n",
       "      <th></th>\n",
       "      <th></th>\n",
       "      <th></th>\n",
       "      <th></th>\n",
       "      <th></th>\n",
       "      <th></th>\n",
       "      <th></th>\n",
       "      <th></th>\n",
       "      <th></th>\n",
       "      <th></th>\n",
       "      <th></th>\n",
       "      <th></th>\n",
       "      <th></th>\n",
       "      <th></th>\n",
       "      <th></th>\n",
       "      <th></th>\n",
       "      <th></th>\n",
       "      <th></th>\n",
       "      <th></th>\n",
       "      <th></th>\n",
       "    </tr>\n",
       "  </thead>\n",
       "  <tbody>\n",
       "    <tr>\n",
       "      <th>1</th>\n",
       "      <td>Student</td>\n",
       "      <td>Yes, both</td>\n",
       "      <td>United States</td>\n",
       "      <td>No</td>\n",
       "      <td>Not employed, and not looking for work</td>\n",
       "      <td>Secondary school</td>\n",
       "      <td>NaN</td>\n",
       "      <td>NaN</td>\n",
       "      <td>NaN</td>\n",
       "      <td>NaN</td>\n",
       "      <td>...</td>\n",
       "      <td>Strongly disagree</td>\n",
       "      <td>Male</td>\n",
       "      <td>High school</td>\n",
       "      <td>White or of European descent</td>\n",
       "      <td>Strongly disagree</td>\n",
       "      <td>Strongly agree</td>\n",
       "      <td>Disagree</td>\n",
       "      <td>Strongly agree</td>\n",
       "      <td>NaN</td>\n",
       "      <td>NaN</td>\n",
       "    </tr>\n",
       "    <tr>\n",
       "      <th>2</th>\n",
       "      <td>Student</td>\n",
       "      <td>Yes, both</td>\n",
       "      <td>United Kingdom</td>\n",
       "      <td>Yes, full-time</td>\n",
       "      <td>Employed part-time</td>\n",
       "      <td>Some college/university study without earning ...</td>\n",
       "      <td>Computer science or software engineering</td>\n",
       "      <td>More than half, but not all, the time</td>\n",
       "      <td>20 to 99 employees</td>\n",
       "      <td>Privately-held limited company, not in startup...</td>\n",
       "      <td>...</td>\n",
       "      <td>Strongly disagree</td>\n",
       "      <td>Male</td>\n",
       "      <td>A master's degree</td>\n",
       "      <td>White or of European descent</td>\n",
       "      <td>Somewhat agree</td>\n",
       "      <td>Somewhat agree</td>\n",
       "      <td>Disagree</td>\n",
       "      <td>Strongly agree</td>\n",
       "      <td>NaN</td>\n",
       "      <td>37500.0</td>\n",
       "    </tr>\n",
       "    <tr>\n",
       "      <th>3</th>\n",
       "      <td>Professional developer</td>\n",
       "      <td>Yes, both</td>\n",
       "      <td>United Kingdom</td>\n",
       "      <td>No</td>\n",
       "      <td>Employed full-time</td>\n",
       "      <td>Bachelor's degree</td>\n",
       "      <td>Computer science or software engineering</td>\n",
       "      <td>Less than half the time, but at least one day ...</td>\n",
       "      <td>10,000 or more employees</td>\n",
       "      <td>Publicly-traded corporation</td>\n",
       "      <td>...</td>\n",
       "      <td>Disagree</td>\n",
       "      <td>Male</td>\n",
       "      <td>A professional degree</td>\n",
       "      <td>White or of European descent</td>\n",
       "      <td>Somewhat agree</td>\n",
       "      <td>Agree</td>\n",
       "      <td>Disagree</td>\n",
       "      <td>Agree</td>\n",
       "      <td>113750.0</td>\n",
       "      <td>NaN</td>\n",
       "    </tr>\n",
       "    <tr>\n",
       "      <th>4</th>\n",
       "      <td>Professional non-developer who sometimes write...</td>\n",
       "      <td>Yes, both</td>\n",
       "      <td>United States</td>\n",
       "      <td>No</td>\n",
       "      <td>Employed full-time</td>\n",
       "      <td>Doctoral degree</td>\n",
       "      <td>A non-computer-focused engineering discipline</td>\n",
       "      <td>Less than half the time, but at least one day ...</td>\n",
       "      <td>10,000 or more employees</td>\n",
       "      <td>Non-profit/non-governmental organization or pr...</td>\n",
       "      <td>...</td>\n",
       "      <td>Disagree</td>\n",
       "      <td>Male</td>\n",
       "      <td>A doctoral degree</td>\n",
       "      <td>White or of European descent</td>\n",
       "      <td>Agree</td>\n",
       "      <td>Agree</td>\n",
       "      <td>Somewhat agree</td>\n",
       "      <td>Strongly agree</td>\n",
       "      <td>NaN</td>\n",
       "      <td>NaN</td>\n",
       "    </tr>\n",
       "    <tr>\n",
       "      <th>5</th>\n",
       "      <td>Professional developer</td>\n",
       "      <td>Yes, I program as a hobby</td>\n",
       "      <td>Switzerland</td>\n",
       "      <td>No</td>\n",
       "      <td>Employed full-time</td>\n",
       "      <td>Master's degree</td>\n",
       "      <td>Computer science or software engineering</td>\n",
       "      <td>Never</td>\n",
       "      <td>10 to 19 employees</td>\n",
       "      <td>Privately-held limited company, not in startup...</td>\n",
       "      <td>...</td>\n",
       "      <td>NaN</td>\n",
       "      <td>NaN</td>\n",
       "      <td>NaN</td>\n",
       "      <td>NaN</td>\n",
       "      <td>NaN</td>\n",
       "      <td>NaN</td>\n",
       "      <td>NaN</td>\n",
       "      <td>NaN</td>\n",
       "      <td>NaN</td>\n",
       "      <td>NaN</td>\n",
       "    </tr>\n",
       "  </tbody>\n",
       "</table>\n",
       "<p>5 rows × 153 columns</p>\n",
       "</div>"
      ],
      "text/plain": [
       "                                                 Professional  \\\n",
       "Respondent                                                      \n",
       "1                                                     Student   \n",
       "2                                                     Student   \n",
       "3                                      Professional developer   \n",
       "4           Professional non-developer who sometimes write...   \n",
       "5                                      Professional developer   \n",
       "\n",
       "                         ProgramHobby         Country      University  \\\n",
       "Respondent                                                              \n",
       "1                           Yes, both   United States              No   \n",
       "2                           Yes, both  United Kingdom  Yes, full-time   \n",
       "3                           Yes, both  United Kingdom              No   \n",
       "4                           Yes, both   United States              No   \n",
       "5           Yes, I program as a hobby     Switzerland              No   \n",
       "\n",
       "                                  EmploymentStatus  \\\n",
       "Respondent                                           \n",
       "1           Not employed, and not looking for work   \n",
       "2                               Employed part-time   \n",
       "3                               Employed full-time   \n",
       "4                               Employed full-time   \n",
       "5                               Employed full-time   \n",
       "\n",
       "                                              FormalEducation  \\\n",
       "Respondent                                                      \n",
       "1                                            Secondary school   \n",
       "2           Some college/university study without earning ...   \n",
       "3                                           Bachelor's degree   \n",
       "4                                             Doctoral degree   \n",
       "5                                             Master's degree   \n",
       "\n",
       "                                           MajorUndergrad  \\\n",
       "Respondent                                                  \n",
       "1                                                     NaN   \n",
       "2                Computer science or software engineering   \n",
       "3                Computer science or software engineering   \n",
       "4           A non-computer-focused engineering discipline   \n",
       "5                Computer science or software engineering   \n",
       "\n",
       "                                                   HomeRemote  \\\n",
       "Respondent                                                      \n",
       "1                                                         NaN   \n",
       "2                       More than half, but not all, the time   \n",
       "3           Less than half the time, but at least one day ...   \n",
       "4           Less than half the time, but at least one day ...   \n",
       "5                                                       Never   \n",
       "\n",
       "                         CompanySize  \\\n",
       "Respondent                             \n",
       "1                                NaN   \n",
       "2                 20 to 99 employees   \n",
       "3           10,000 or more employees   \n",
       "4           10,000 or more employees   \n",
       "5                 10 to 19 employees   \n",
       "\n",
       "                                                  CompanyType  ...  \\\n",
       "Respondent                                                     ...   \n",
       "1                                                         NaN  ...   \n",
       "2           Privately-held limited company, not in startup...  ...   \n",
       "3                                 Publicly-traded corporation  ...   \n",
       "4           Non-profit/non-governmental organization or pr...  ...   \n",
       "5           Privately-held limited company, not in startup...  ...   \n",
       "\n",
       "           StackOverflowMakeMoney Gender HighestEducationParents  \\\n",
       "Respondent                                                         \n",
       "1               Strongly disagree   Male             High school   \n",
       "2               Strongly disagree   Male       A master's degree   \n",
       "3                        Disagree   Male   A professional degree   \n",
       "4                        Disagree   Male       A doctoral degree   \n",
       "5                             NaN    NaN                     NaN   \n",
       "\n",
       "                                    Race         SurveyLong  \\\n",
       "Respondent                                                    \n",
       "1           White or of European descent  Strongly disagree   \n",
       "2           White or of European descent     Somewhat agree   \n",
       "3           White or of European descent     Somewhat agree   \n",
       "4           White or of European descent              Agree   \n",
       "5                                    NaN                NaN   \n",
       "\n",
       "           QuestionsInteresting QuestionsConfusing  InterestedAnswers  \\\n",
       "Respondent                                                              \n",
       "1                Strongly agree           Disagree     Strongly agree   \n",
       "2                Somewhat agree           Disagree     Strongly agree   \n",
       "3                         Agree           Disagree              Agree   \n",
       "4                         Agree     Somewhat agree     Strongly agree   \n",
       "5                           NaN                NaN                NaN   \n",
       "\n",
       "              Salary ExpectedSalary  \n",
       "Respondent                           \n",
       "1                NaN            NaN  \n",
       "2                NaN        37500.0  \n",
       "3           113750.0            NaN  \n",
       "4                NaN            NaN  \n",
       "5                NaN            NaN  \n",
       "\n",
       "[5 rows x 153 columns]"
      ]
     },
     "execution_count": 207,
     "metadata": {},
     "output_type": "execute_result"
    }
   ],
   "source": [
    "#Read File containing survey data\n",
    "df = pd.read_csv('./survey_results_public.csv', index_col='Respondent')\n",
    "df.head()"
   ]
  },
  {
   "cell_type": "markdown",
   "metadata": {},
   "source": [
    "### Assess - Let's Get A Sense of What the Data Looks Like\n",
    "\n",
    "##### From this section, we notice that there are 51,392 respondents to the 153 questions asked. "
   ]
  },
  {
   "cell_type": "code",
   "execution_count": 148,
   "metadata": {},
   "outputs": [
    {
     "name": "stdout",
     "output_type": "stream",
     "text": [
      "(51392, 153) Index(['Professional', 'ProgramHobby', 'Country', 'University',\n",
      "       'EmploymentStatus', 'FormalEducation', 'MajorUndergrad', 'HomeRemote',\n",
      "       'CompanySize', 'CompanyType',\n",
      "       ...\n",
      "       'StackOverflowMakeMoney', 'Gender', 'HighestEducationParents', 'Race',\n",
      "       'SurveyLong', 'QuestionsInteresting', 'QuestionsConfusing',\n",
      "       'InterestedAnswers', 'Salary', 'ExpectedSalary'],\n",
      "      dtype='object', length=153)\n"
     ]
    }
   ],
   "source": [
    "print(df.shape, df.columns)"
   ]
  },
  {
   "cell_type": "code",
   "execution_count": 208,
   "metadata": {},
   "outputs": [
    {
     "data": {
      "text/plain": [
       "{'Country',\n",
       " 'EmploymentStatus',\n",
       " 'FormalEducation',\n",
       " 'Professional',\n",
       " 'ProgramHobby',\n",
       " 'University'}"
      ]
     },
     "execution_count": 208,
     "metadata": {},
     "output_type": "execute_result"
    }
   ],
   "source": [
    "#Columns with no null values\n",
    "no_nulls = set(df.columns[df.isnull().mean()==0])\n",
    "\n",
    "no_nulls"
   ]
  },
  {
   "cell_type": "markdown",
   "metadata": {},
   "source": [
    "#### Only 6 out of 153 columns columns have no null values  "
   ]
  },
  {
   "cell_type": "code",
   "execution_count": 150,
   "metadata": {},
   "outputs": [
    {
     "data": {
      "text/plain": [
       "53"
      ]
     },
     "execution_count": 150,
     "metadata": {},
     "output_type": "execute_result"
    }
   ],
   "source": [
    "# Over 50% null values\n",
    "more_than_half_missing_cols = len(set(df.columns[df.isnull().mean() > 0.50]))\n",
    "more_than_half_missing_cols\n"
   ]
  },
  {
   "cell_type": "markdown",
   "metadata": {},
   "source": [
    "#### We see that 53 questions have missing values in more than half of their rows."
   ]
  },
  {
   "cell_type": "code",
   "execution_count": 209,
   "metadata": {},
   "outputs": [
    {
     "data": {
      "text/plain": [
       "{'ExCoder10Years',\n",
       " 'ExCoderActive',\n",
       " 'ExCoderBalance',\n",
       " 'ExCoderBelonged',\n",
       " 'ExCoderNotForMe',\n",
       " 'ExCoderReturn',\n",
       " 'ExCoderSkills',\n",
       " 'ExCoderWillNotCode',\n",
       " 'ExpectedSalary',\n",
       " 'MobileDeveloperType',\n",
       " 'NonDeveloperType',\n",
       " 'TimeAfterBootcamp',\n",
       " 'YearsCodedJobPast'}"
      ]
     },
     "execution_count": 209,
     "metadata": {},
     "output_type": "execute_result"
    }
   ],
   "source": [
    "#More than 80% null values\n",
    "most_missing_cols = set(df.columns[df.isnull().mean() > 0.80])\n",
    "most_missing_cols"
   ]
  },
  {
   "cell_type": "markdown",
   "metadata": {},
   "source": [
    "#### We see that 13 questions have missing values in more than 80% of their rows. They are good candidates for dropping"
   ]
  },
  {
   "cell_type": "code",
   "execution_count": 210,
   "metadata": {},
   "outputs": [
    {
     "data": {
      "text/plain": [
       "{'CareerSatisfaction',\n",
       " 'ClickyKeys',\n",
       " 'Country',\n",
       " 'EmploymentStatus',\n",
       " 'FormalEducation',\n",
       " 'HomeRemote',\n",
       " 'MajorUndergrad',\n",
       " 'Professional',\n",
       " 'ProgramHobby',\n",
       " 'PronounceGIF',\n",
       " 'University',\n",
       " 'YearsProgram'}"
      ]
     },
     "execution_count": 210,
     "metadata": {},
     "output_type": "execute_result"
    }
   ],
   "source": [
    "least_missing_cols = set(df.columns[df.isnull().mean() < 0.20])\n",
    "least_missing_cols"
   ]
  },
  {
   "cell_type": "markdown",
   "metadata": {},
   "source": [
    "#### We see that 12 questions have missing values in less than 20% of their rows."
   ]
  },
  {
   "cell_type": "markdown",
   "metadata": {},
   "source": [
    "## Clean, Analyze and Visualize (We'll be using bar charts to visualize data)\n",
    "### Questions"
   ]
  },
  {
   "cell_type": "markdown",
   "metadata": {},
   "source": [
    "#### 1. What are the 5 most represented countries and Majors? "
   ]
  },
  {
   "cell_type": "code",
   "execution_count": 211,
   "metadata": {},
   "outputs": [
    {
     "data": {
      "text/plain": [
       "201"
      ]
     },
     "execution_count": 211,
     "metadata": {},
     "output_type": "execute_result"
    }
   ],
   "source": [
    "countries = len(set(df.Country))\n",
    "\n",
    "countries"
   ]
  },
  {
   "cell_type": "markdown",
   "metadata": {},
   "source": [
    "#### There are 201 countries represented in the dataset. Every respondent answered this question"
   ]
  },
  {
   "cell_type": "code",
   "execution_count": 236,
   "metadata": {
    "scrolled": true
   },
   "outputs": [
    {
     "data": {
      "text/plain": [
       "United States     11455\n",
       "India              5197\n",
       "United Kingdom     4395\n",
       "Germany            4143\n",
       "Canada             2233\n",
       "                  ...  \n",
       "Macau                 1\n",
       "Gibraltar             1\n",
       "Seychelles            1\n",
       "Turkmenistan          1\n",
       "Montserrat            1\n",
       "Length: 201, dtype: int64"
      ]
     },
     "execution_count": 236,
     "metadata": {},
     "output_type": "execute_result"
    }
   ],
   "source": [
    "country_count = pd.value_counts(df['Country'].values, sort=True)\n",
    "\n",
    "country_count"
   ]
  },
  {
   "cell_type": "markdown",
   "metadata": {},
   "source": [
    "#### We see the top countries are United States, India, United Kingdom, Germany and Canada"
   ]
  },
  {
   "cell_type": "code",
   "execution_count": 213,
   "metadata": {},
   "outputs": [
    {
     "data": {
      "text/plain": [
       "Computer science or software engineering                        21409\n",
       "Computer engineering or electrical/electronics engineering       4364\n",
       "Computer programming or Web development                          3883\n",
       "Information technology, networking, or system administration     2140\n",
       "A natural science                                                1865\n",
       "A non-computer-focused engineering discipline                    1789\n",
       "Mathematics or statistics                                        1648\n",
       "Something else                                                   1060\n",
       "A humanities discipline                                           901\n",
       "A business discipline                                             900\n",
       "Management information systems                                    654\n",
       "Fine arts or performing arts                                      646\n",
       "A social science                                                  633\n",
       "I never declared a major                                          592\n",
       "Psychology                                                        215\n",
       "A health science                                                  142\n",
       "dtype: int64"
      ]
     },
     "execution_count": 213,
     "metadata": {},
     "output_type": "execute_result"
    }
   ],
   "source": [
    "major_undergrad_count = pd.value_counts(df['MajorUndergrad'].values, sort=True)\n",
    "major_undergrad_count"
   ]
  },
  {
   "cell_type": "markdown",
   "metadata": {},
   "source": [
    "#### We see the top majors are Computer science or software engineering and Computer engineering or electrical/electronics engineering"
   ]
  },
  {
   "cell_type": "code",
   "execution_count": 237,
   "metadata": {},
   "outputs": [],
   "source": [
    "## Select top 5 countries for further questions\n",
    "selected_countries = ['United States', 'India', 'United Kingdom', 'Germany', 'Canada']"
   ]
  },
  {
   "cell_type": "code",
   "execution_count": 156,
   "metadata": {},
   "outputs": [],
   "source": [
    "selected_countries_df = df[df['Country'].map(lambda x: x in selected_countries)].reset_index()"
   ]
  },
  {
   "cell_type": "code",
   "execution_count": 157,
   "metadata": {},
   "outputs": [
    {
     "data": {
      "text/html": [
       "<div>\n",
       "<style scoped>\n",
       "    .dataframe tbody tr th:only-of-type {\n",
       "        vertical-align: middle;\n",
       "    }\n",
       "\n",
       "    .dataframe tbody tr th {\n",
       "        vertical-align: top;\n",
       "    }\n",
       "\n",
       "    .dataframe thead th {\n",
       "        text-align: right;\n",
       "    }\n",
       "</style>\n",
       "<table border=\"1\" class=\"dataframe\">\n",
       "  <thead>\n",
       "    <tr style=\"text-align: right;\">\n",
       "      <th></th>\n",
       "      <th>Respondent</th>\n",
       "      <th>Professional</th>\n",
       "      <th>ProgramHobby</th>\n",
       "      <th>Country</th>\n",
       "      <th>University</th>\n",
       "      <th>EmploymentStatus</th>\n",
       "      <th>FormalEducation</th>\n",
       "      <th>MajorUndergrad</th>\n",
       "      <th>HomeRemote</th>\n",
       "      <th>CompanySize</th>\n",
       "      <th>...</th>\n",
       "      <th>StackOverflowMakeMoney</th>\n",
       "      <th>Gender</th>\n",
       "      <th>HighestEducationParents</th>\n",
       "      <th>Race</th>\n",
       "      <th>SurveyLong</th>\n",
       "      <th>QuestionsInteresting</th>\n",
       "      <th>QuestionsConfusing</th>\n",
       "      <th>InterestedAnswers</th>\n",
       "      <th>Salary</th>\n",
       "      <th>ExpectedSalary</th>\n",
       "    </tr>\n",
       "  </thead>\n",
       "  <tbody>\n",
       "    <tr>\n",
       "      <th>0</th>\n",
       "      <td>1</td>\n",
       "      <td>Student</td>\n",
       "      <td>Yes, both</td>\n",
       "      <td>United States</td>\n",
       "      <td>No</td>\n",
       "      <td>Not employed, and not looking for work</td>\n",
       "      <td>Secondary school</td>\n",
       "      <td>NaN</td>\n",
       "      <td>NaN</td>\n",
       "      <td>NaN</td>\n",
       "      <td>...</td>\n",
       "      <td>Strongly disagree</td>\n",
       "      <td>Male</td>\n",
       "      <td>High school</td>\n",
       "      <td>White or of European descent</td>\n",
       "      <td>Strongly disagree</td>\n",
       "      <td>Strongly agree</td>\n",
       "      <td>Disagree</td>\n",
       "      <td>Strongly agree</td>\n",
       "      <td>NaN</td>\n",
       "      <td>NaN</td>\n",
       "    </tr>\n",
       "    <tr>\n",
       "      <th>1</th>\n",
       "      <td>2</td>\n",
       "      <td>Student</td>\n",
       "      <td>Yes, both</td>\n",
       "      <td>United Kingdom</td>\n",
       "      <td>Yes, full-time</td>\n",
       "      <td>Employed part-time</td>\n",
       "      <td>Some college/university study without earning ...</td>\n",
       "      <td>Computer science or software engineering</td>\n",
       "      <td>More than half, but not all, the time</td>\n",
       "      <td>20 to 99 employees</td>\n",
       "      <td>...</td>\n",
       "      <td>Strongly disagree</td>\n",
       "      <td>Male</td>\n",
       "      <td>A master's degree</td>\n",
       "      <td>White or of European descent</td>\n",
       "      <td>Somewhat agree</td>\n",
       "      <td>Somewhat agree</td>\n",
       "      <td>Disagree</td>\n",
       "      <td>Strongly agree</td>\n",
       "      <td>NaN</td>\n",
       "      <td>37500.0</td>\n",
       "    </tr>\n",
       "    <tr>\n",
       "      <th>2</th>\n",
       "      <td>3</td>\n",
       "      <td>Professional developer</td>\n",
       "      <td>Yes, both</td>\n",
       "      <td>United Kingdom</td>\n",
       "      <td>No</td>\n",
       "      <td>Employed full-time</td>\n",
       "      <td>Bachelor's degree</td>\n",
       "      <td>Computer science or software engineering</td>\n",
       "      <td>Less than half the time, but at least one day ...</td>\n",
       "      <td>10,000 or more employees</td>\n",
       "      <td>...</td>\n",
       "      <td>Disagree</td>\n",
       "      <td>Male</td>\n",
       "      <td>A professional degree</td>\n",
       "      <td>White or of European descent</td>\n",
       "      <td>Somewhat agree</td>\n",
       "      <td>Agree</td>\n",
       "      <td>Disagree</td>\n",
       "      <td>Agree</td>\n",
       "      <td>113750.0</td>\n",
       "      <td>NaN</td>\n",
       "    </tr>\n",
       "    <tr>\n",
       "      <th>3</th>\n",
       "      <td>4</td>\n",
       "      <td>Professional non-developer who sometimes write...</td>\n",
       "      <td>Yes, both</td>\n",
       "      <td>United States</td>\n",
       "      <td>No</td>\n",
       "      <td>Employed full-time</td>\n",
       "      <td>Doctoral degree</td>\n",
       "      <td>A non-computer-focused engineering discipline</td>\n",
       "      <td>Less than half the time, but at least one day ...</td>\n",
       "      <td>10,000 or more employees</td>\n",
       "      <td>...</td>\n",
       "      <td>Disagree</td>\n",
       "      <td>Male</td>\n",
       "      <td>A doctoral degree</td>\n",
       "      <td>White or of European descent</td>\n",
       "      <td>Agree</td>\n",
       "      <td>Agree</td>\n",
       "      <td>Somewhat agree</td>\n",
       "      <td>Strongly agree</td>\n",
       "      <td>NaN</td>\n",
       "      <td>NaN</td>\n",
       "    </tr>\n",
       "    <tr>\n",
       "      <th>4</th>\n",
       "      <td>7</td>\n",
       "      <td>Professional non-developer who sometimes write...</td>\n",
       "      <td>Yes, both</td>\n",
       "      <td>United States</td>\n",
       "      <td>No</td>\n",
       "      <td>Employed full-time</td>\n",
       "      <td>Master's degree</td>\n",
       "      <td>A non-computer-focused engineering discipline</td>\n",
       "      <td>Less than half the time, but at least one day ...</td>\n",
       "      <td>20 to 99 employees</td>\n",
       "      <td>...</td>\n",
       "      <td>Disagree</td>\n",
       "      <td>Male</td>\n",
       "      <td>A doctoral degree</td>\n",
       "      <td>White or of European descent</td>\n",
       "      <td>Disagree</td>\n",
       "      <td>Agree</td>\n",
       "      <td>Disagree</td>\n",
       "      <td>Agree</td>\n",
       "      <td>NaN</td>\n",
       "      <td>NaN</td>\n",
       "    </tr>\n",
       "  </tbody>\n",
       "</table>\n",
       "<p>5 rows × 154 columns</p>\n",
       "</div>"
      ],
      "text/plain": [
       "   Respondent                                       Professional ProgramHobby  \\\n",
       "0           1                                            Student    Yes, both   \n",
       "1           2                                            Student    Yes, both   \n",
       "2           3                             Professional developer    Yes, both   \n",
       "3           4  Professional non-developer who sometimes write...    Yes, both   \n",
       "4           7  Professional non-developer who sometimes write...    Yes, both   \n",
       "\n",
       "          Country      University                        EmploymentStatus  \\\n",
       "0   United States              No  Not employed, and not looking for work   \n",
       "1  United Kingdom  Yes, full-time                      Employed part-time   \n",
       "2  United Kingdom              No                      Employed full-time   \n",
       "3   United States              No                      Employed full-time   \n",
       "4   United States              No                      Employed full-time   \n",
       "\n",
       "                                     FormalEducation  \\\n",
       "0                                   Secondary school   \n",
       "1  Some college/university study without earning ...   \n",
       "2                                  Bachelor's degree   \n",
       "3                                    Doctoral degree   \n",
       "4                                    Master's degree   \n",
       "\n",
       "                                  MajorUndergrad  \\\n",
       "0                                            NaN   \n",
       "1       Computer science or software engineering   \n",
       "2       Computer science or software engineering   \n",
       "3  A non-computer-focused engineering discipline   \n",
       "4  A non-computer-focused engineering discipline   \n",
       "\n",
       "                                          HomeRemote  \\\n",
       "0                                                NaN   \n",
       "1              More than half, but not all, the time   \n",
       "2  Less than half the time, but at least one day ...   \n",
       "3  Less than half the time, but at least one day ...   \n",
       "4  Less than half the time, but at least one day ...   \n",
       "\n",
       "                CompanySize  ... StackOverflowMakeMoney Gender  \\\n",
       "0                       NaN  ...      Strongly disagree   Male   \n",
       "1        20 to 99 employees  ...      Strongly disagree   Male   \n",
       "2  10,000 or more employees  ...               Disagree   Male   \n",
       "3  10,000 or more employees  ...               Disagree   Male   \n",
       "4        20 to 99 employees  ...               Disagree   Male   \n",
       "\n",
       "  HighestEducationParents                          Race         SurveyLong  \\\n",
       "0             High school  White or of European descent  Strongly disagree   \n",
       "1       A master's degree  White or of European descent     Somewhat agree   \n",
       "2   A professional degree  White or of European descent     Somewhat agree   \n",
       "3       A doctoral degree  White or of European descent              Agree   \n",
       "4       A doctoral degree  White or of European descent           Disagree   \n",
       "\n",
       "  QuestionsInteresting QuestionsConfusing InterestedAnswers    Salary  \\\n",
       "0       Strongly agree           Disagree    Strongly agree       NaN   \n",
       "1       Somewhat agree           Disagree    Strongly agree       NaN   \n",
       "2                Agree           Disagree             Agree  113750.0   \n",
       "3                Agree     Somewhat agree    Strongly agree       NaN   \n",
       "4                Agree           Disagree             Agree       NaN   \n",
       "\n",
       "   ExpectedSalary  \n",
       "0             NaN  \n",
       "1         37500.0  \n",
       "2             NaN  \n",
       "3             NaN  \n",
       "4             NaN  \n",
       "\n",
       "[5 rows x 154 columns]"
      ]
     },
     "execution_count": 157,
     "metadata": {},
     "output_type": "execute_result"
    }
   ],
   "source": [
    "selected_countries_df.head()"
   ]
  },
  {
   "cell_type": "markdown",
   "metadata": {},
   "source": [
    "#### We confirm that we have only 5 countries in our dataframe"
   ]
  },
  {
   "cell_type": "code",
   "execution_count": 158,
   "metadata": {},
   "outputs": [
    {
     "data": {
      "text/plain": [
       "0.5336044520547946"
      ]
     },
     "execution_count": 158,
     "metadata": {},
     "output_type": "execute_result"
    }
   ],
   "source": [
    "len(selected_countries_df)/len(df)"
   ]
  },
  {
   "cell_type": "markdown",
   "metadata": {},
   "source": [
    "#### Notice that the top 5 countries account for 53% of the responses"
   ]
  },
  {
   "cell_type": "code",
   "execution_count": 159,
   "metadata": {},
   "outputs": [
    {
     "data": {
      "text/plain": [
       "{'United States': 11455,\n",
       " 'India': 5197,\n",
       " 'United Kingdom': 4395,\n",
       " 'Germany': 4143,\n",
       " 'Canada': 2233}"
      ]
     },
     "execution_count": 159,
     "metadata": {},
     "output_type": "execute_result"
    }
   ],
   "source": [
    "## create a function to tabulate results by countries for analysis and plotting\n",
    "\n",
    "\"\"\" Object to return value counts of top 5 countries.\"\"\"\n",
    "\n",
    "sumByCountry = {'United States': selected_countries_df.Country.value_counts()['United States'],\n",
    "              'India': selected_countries_df.Country.value_counts()['India'],\n",
    "              'United Kingdom': selected_countries_df.Country.value_counts()['United Kingdom'],\n",
    "              'Germany': selected_countries_df.Country.value_counts()['Germany'],\n",
    "              'Canada': selected_countries_df.Country.value_counts()['Canada'],\n",
    "             } \n",
    "def groupByCountry(column, selected_df=selected_countries_df):\n",
    "    \"\"\"\n",
    "    Function to group data by selected countries\n",
    "    \n",
    "    Parameters:\n",
    "    \n",
    "    column - Column to group by country\n",
    "    selected_df - A dataframe containing column\n",
    "    \n",
    "    Returns:\n",
    "    Dataframe containing the grouped data\n",
    "    \"\"\"\n",
    "    df = selected_df[['Country', column]].dropna(axis=0, how='any')\n",
    "    expanded = df[column].str.get_dummies(';')\n",
    "    fulldf = pd.concat([df['Country'], expanded], axis=1).groupby('Country').sum().T.rename_axis(column)\n",
    "    for column in list(fulldf.columns):\n",
    "        fulldf[column] =fulldf[column].apply(lambda x: round((x/sumByCountry[column]), 3))\n",
    "    return fulldf\n",
    "\n",
    "sumByCountry"
   ]
  },
  {
   "cell_type": "code",
   "execution_count": 233,
   "metadata": {},
   "outputs": [
    {
     "data": {
      "image/png": "[encoded data removed]",
      "text/plain": [
       "<Figure size 1440x504 with 1 Axes>"
      ]
     },
     "metadata": {
      "needs_background": "light"
     },
     "output_type": "display_data"
    }
   ],
   "source": [
    "country_proportion = pd.value_counts(selected_countries_df['Country'].values, sort=True)/len(selected_countries_df)\n",
    "\n",
    "plt.figure(figsize = (20, 7))\n",
    "country_proportion.plot(kind='bar', title='Distribution of Developers by Country')\n",
    "plt.ylabel('Number')\n",
    "plt.show()"
   ]
  },
  {
   "cell_type": "markdown",
   "metadata": {},
   "source": [
    "#### 2. What's the remote work culture like in the selected countries? "
   ]
  },
  {
   "cell_type": "code",
   "execution_count": 218,
   "metadata": {},
   "outputs": [
    {
     "data": {
      "image/png": "[encoded data removed]",
      "text/plain": [
       "<Figure size 1440x504 with 1 Axes>"
      ]
     },
     "metadata": {
      "needs_background": "light"
     },
     "output_type": "display_data"
    }
   ],
   "source": [
    "remote_culture_proportion = pd.value_counts(selected_countries_df['HomeRemote'].values, sort=True)/len(selected_countries_df)\n",
    "\n",
    "plt.figure(figsize = (20, 7))\n",
    "remote_culture_proportion.plot(kind='bar', title='How often do developers work from home?')\n",
    "plt.ylabel('Number')\n",
    "plt.show()"
   ]
  },
  {
   "cell_type": "code",
   "execution_count": 214,
   "metadata": {
    "scrolled": false
   },
   "outputs": [
    {
     "data": {
      "text/html": [
       "<div>\n",
       "<style scoped>\n",
       "    .dataframe tbody tr th:only-of-type {\n",
       "        vertical-align: middle;\n",
       "    }\n",
       "\n",
       "    .dataframe tbody tr th {\n",
       "        vertical-align: top;\n",
       "    }\n",
       "\n",
       "    .dataframe thead th {\n",
       "        text-align: right;\n",
       "    }\n",
       "</style>\n",
       "<table border=\"1\" class=\"dataframe\">\n",
       "  <thead>\n",
       "    <tr style=\"text-align: right;\">\n",
       "      <th>Country</th>\n",
       "      <th>Canada</th>\n",
       "      <th>Germany</th>\n",
       "      <th>India</th>\n",
       "      <th>United Kingdom</th>\n",
       "      <th>United States</th>\n",
       "    </tr>\n",
       "    <tr>\n",
       "      <th>HomeRemote</th>\n",
       "      <th></th>\n",
       "      <th></th>\n",
       "      <th></th>\n",
       "      <th></th>\n",
       "      <th></th>\n",
       "    </tr>\n",
       "  </thead>\n",
       "  <tbody>\n",
       "    <tr>\n",
       "      <th>A few days each month</th>\n",
       "      <td>0.344</td>\n",
       "      <td>0.312</td>\n",
       "      <td>0.271</td>\n",
       "      <td>0.316</td>\n",
       "      <td>0.342</td>\n",
       "    </tr>\n",
       "    <tr>\n",
       "      <th>About half the time</th>\n",
       "      <td>0.027</td>\n",
       "      <td>0.030</td>\n",
       "      <td>0.038</td>\n",
       "      <td>0.023</td>\n",
       "      <td>0.031</td>\n",
       "    </tr>\n",
       "    <tr>\n",
       "      <th>All or almost all the time (I'm full-time remote)</th>\n",
       "      <td>0.088</td>\n",
       "      <td>0.054</td>\n",
       "      <td>0.079</td>\n",
       "      <td>0.078</td>\n",
       "      <td>0.112</td>\n",
       "    </tr>\n",
       "    <tr>\n",
       "      <th>It's complicated</th>\n",
       "      <td>0.045</td>\n",
       "      <td>0.033</td>\n",
       "      <td>0.019</td>\n",
       "      <td>0.050</td>\n",
       "      <td>0.048</td>\n",
       "    </tr>\n",
       "    <tr>\n",
       "      <th>Less than half the time, but at least one day each week</th>\n",
       "      <td>0.067</td>\n",
       "      <td>0.077</td>\n",
       "      <td>0.074</td>\n",
       "      <td>0.075</td>\n",
       "      <td>0.096</td>\n",
       "    </tr>\n",
       "    <tr>\n",
       "      <th>More than half, but not all, the time</th>\n",
       "      <td>0.030</td>\n",
       "      <td>0.029</td>\n",
       "      <td>0.055</td>\n",
       "      <td>0.024</td>\n",
       "      <td>0.030</td>\n",
       "    </tr>\n",
       "    <tr>\n",
       "      <th>Never</th>\n",
       "      <td>0.258</td>\n",
       "      <td>0.347</td>\n",
       "      <td>0.272</td>\n",
       "      <td>0.317</td>\n",
       "      <td>0.215</td>\n",
       "    </tr>\n",
       "  </tbody>\n",
       "</table>\n",
       "</div>"
      ],
      "text/plain": [
       "Country                                             Canada  Germany  India  \\\n",
       "HomeRemote                                                                   \n",
       "A few days each month                                0.344    0.312  0.271   \n",
       "About half the time                                  0.027    0.030  0.038   \n",
       "All or almost all the time (I'm full-time remote)    0.088    0.054  0.079   \n",
       "It's complicated                                     0.045    0.033  0.019   \n",
       "Less than half the time, but at least one day e...   0.067    0.077  0.074   \n",
       "More than half, but not all, the time                0.030    0.029  0.055   \n",
       "Never                                                0.258    0.347  0.272   \n",
       "\n",
       "Country                                             United Kingdom  \\\n",
       "HomeRemote                                                           \n",
       "A few days each month                                        0.316   \n",
       "About half the time                                          0.023   \n",
       "All or almost all the time (I'm full-time remote)            0.078   \n",
       "It's complicated                                             0.050   \n",
       "Less than half the time, but at least one day e...           0.075   \n",
       "More than half, but not all, the time                        0.024   \n",
       "Never                                                        0.317   \n",
       "\n",
       "Country                                             United States  \n",
       "HomeRemote                                                         \n",
       "A few days each month                                       0.342  \n",
       "About half the time                                         0.031  \n",
       "All or almost all the time (I'm full-time remote)           0.112  \n",
       "It's complicated                                            0.048  \n",
       "Less than half the time, but at least one day e...          0.096  \n",
       "More than half, but not all, the time                       0.030  \n",
       "Never                                                       0.215  "
      ]
     },
     "execution_count": 214,
     "metadata": {},
     "output_type": "execute_result"
    }
   ],
   "source": [
    "home_remote_df = groupByCountry('HomeRemote')\n",
    "home_remote_df"
   ]
  },
  {
   "cell_type": "code",
   "execution_count": 226,
   "metadata": {},
   "outputs": [
    {
     "data": {
      "text/plain": [
       "<Figure size 1440x720 with 0 Axes>"
      ]
     },
     "metadata": {},
     "output_type": "display_data"
    },
    {
     "data": {
      "image/png": "[encoded data removed]",
      "text/plain": [
       "<Figure size 432x288 with 1 Axes>"
      ]
     },
     "metadata": {
      "needs_background": "light"
     },
     "output_type": "display_data"
    }
   ],
   "source": [
    "plt.figure(figsize = (20, 10))\n",
    "\n",
    "home_remote_df.plot(kind='bar')\n",
    "\n",
    "plt.title('Remote Culture by Country')\n",
    "plt.xlabel('How often do you work from home or remotely?')\n",
    "plt.ylabel('Proportion')\n",
    "plt.legend(title='Country')\n",
    "plt.show()"
   ]
  },
  {
   "cell_type": "markdown",
   "metadata": {},
   "source": [
    "### Findings\n",
    "#### We see that most respondents rarely work at home. Remote work culture still has a lot of room to grow. \n",
    "#### More than half of the respondents never worked from home or only worked for a few days a month\n",
    "#### It was highest in Germany and lowest in India\n",
    "#### Over one-third of developers worked from home at least a few days a month and almost a third never worked from home"
   ]
  },
  {
   "cell_type": "markdown",
   "metadata": {},
   "source": [
    "#### 3. What percentage of developers program as a hobby by country? "
   ]
  },
  {
   "cell_type": "code",
   "execution_count": 224,
   "metadata": {},
   "outputs": [
    {
     "data": {
      "image/png": "[encoded data removed]",
      "text/plain": [
       "<Figure size 1440x720 with 1 Axes>"
      ]
     },
     "metadata": {
      "needs_background": "light"
     },
     "output_type": "display_data"
    }
   ],
   "source": [
    "program_hobby = pd.value_counts(selected_countries_df['ProgramHobby'].values, sort=True)/len(selected_countries_df)\n",
    "\n",
    "plt.figure(figsize = (20, 10))\n",
    "\n",
    "program_hobby.plot(kind='bar', title='Program as a hobby')\n",
    "plt.ylabel('Number')\n",
    "plt.show()"
   ]
  },
  {
   "cell_type": "markdown",
   "metadata": {},
   "source": [
    "#### We see that about 75% of developers code as a hobby and about 6% contribute to open source. "
   ]
  },
  {
   "cell_type": "code",
   "execution_count": 165,
   "metadata": {
    "scrolled": false
   },
   "outputs": [
    {
     "data": {
      "text/html": [
       "<div>\n",
       "<style scoped>\n",
       "    .dataframe tbody tr th:only-of-type {\n",
       "        vertical-align: middle;\n",
       "    }\n",
       "\n",
       "    .dataframe tbody tr th {\n",
       "        vertical-align: top;\n",
       "    }\n",
       "\n",
       "    .dataframe thead th {\n",
       "        text-align: right;\n",
       "    }\n",
       "</style>\n",
       "<table border=\"1\" class=\"dataframe\">\n",
       "  <thead>\n",
       "    <tr style=\"text-align: right;\">\n",
       "      <th>Country</th>\n",
       "      <th>Canada</th>\n",
       "      <th>Germany</th>\n",
       "      <th>India</th>\n",
       "      <th>United Kingdom</th>\n",
       "      <th>United States</th>\n",
       "    </tr>\n",
       "    <tr>\n",
       "      <th>ProgramHobby</th>\n",
       "      <th></th>\n",
       "      <th></th>\n",
       "      <th></th>\n",
       "      <th></th>\n",
       "      <th></th>\n",
       "    </tr>\n",
       "  </thead>\n",
       "  <tbody>\n",
       "    <tr>\n",
       "      <th>No</th>\n",
       "      <td>0.203</td>\n",
       "      <td>0.168</td>\n",
       "      <td>0.191</td>\n",
       "      <td>0.195</td>\n",
       "      <td>0.185</td>\n",
       "    </tr>\n",
       "    <tr>\n",
       "      <th>Yes, I contribute to open source projects</th>\n",
       "      <td>0.039</td>\n",
       "      <td>0.061</td>\n",
       "      <td>0.085</td>\n",
       "      <td>0.042</td>\n",
       "      <td>0.044</td>\n",
       "    </tr>\n",
       "    <tr>\n",
       "      <th>Yes, I program as a hobby</th>\n",
       "      <td>0.525</td>\n",
       "      <td>0.500</td>\n",
       "      <td>0.401</td>\n",
       "      <td>0.542</td>\n",
       "      <td>0.489</td>\n",
       "    </tr>\n",
       "    <tr>\n",
       "      <th>Yes, both</th>\n",
       "      <td>0.233</td>\n",
       "      <td>0.270</td>\n",
       "      <td>0.323</td>\n",
       "      <td>0.221</td>\n",
       "      <td>0.282</td>\n",
       "    </tr>\n",
       "  </tbody>\n",
       "</table>\n",
       "</div>"
      ],
      "text/plain": [
       "Country                                    Canada  Germany  India  \\\n",
       "ProgramHobby                                                        \n",
       "No                                          0.203    0.168  0.191   \n",
       "Yes, I contribute to open source projects   0.039    0.061  0.085   \n",
       "Yes, I program as a hobby                   0.525    0.500  0.401   \n",
       "Yes, both                                   0.233    0.270  0.323   \n",
       "\n",
       "Country                                    United Kingdom  United States  \n",
       "ProgramHobby                                                              \n",
       "No                                                  0.195          0.185  \n",
       "Yes, I contribute to open source projects           0.042          0.044  \n",
       "Yes, I program as a hobby                           0.542          0.489  \n",
       "Yes, both                                           0.221          0.282  "
      ]
     },
     "execution_count": 165,
     "metadata": {},
     "output_type": "execute_result"
    }
   ],
   "source": [
    "program_hobby_df = groupByCountry('ProgramHobby')\n",
    "program_hobby_df"
   ]
  },
  {
   "cell_type": "markdown",
   "metadata": {},
   "source": [
    "#### Notice that developers in India are twice as likely to contribute to open-source projects as developers in United Kingdom and Canada\n",
    "#### However, India has the lowest values for those who code as a hobby. "
   ]
  },
  {
   "cell_type": "code",
   "execution_count": 234,
   "metadata": {},
   "outputs": [
    {
     "data": {
      "text/plain": [
       "<matplotlib.legend.Legend at 0x7ffac070a350>"
      ]
     },
     "execution_count": 234,
     "metadata": {},
     "output_type": "execute_result"
    },
    {
     "data": {
      "text/plain": [
       "<Figure size 1440x720 with 0 Axes>"
      ]
     },
     "metadata": {},
     "output_type": "display_data"
    },
    {
     "data": {
      "image/png": "[encoded data removed]",
      "text/plain": [
       "<Figure size 432x288 with 1 Axes>"
      ]
     },
     "metadata": {
      "needs_background": "light"
     },
     "output_type": "display_data"
    }
   ],
   "source": [
    "plt.figure(figsize = (20, 10))\n",
    "\n",
    "program_hobby_df.plot(kind='bar')\n",
    "\n",
    "plt.title('Programming as a hobby by Country')\n",
    "plt.xlabel('Do you Program as a hobby?')\n",
    "plt.ylabel('Proportion')\n",
    "plt.legend(title='Country')"
   ]
  },
  {
   "cell_type": "markdown",
   "metadata": {},
   "source": [
    "#### 4. What is the gender distribution by country? "
   ]
  },
  {
   "cell_type": "code",
   "execution_count": 167,
   "metadata": {},
   "outputs": [
    {
     "data": {
      "text/plain": [
       "26"
      ]
     },
     "execution_count": 167,
     "metadata": {},
     "output_type": "execute_result"
    }
   ],
   "source": [
    "gender = len(set(selected_countries_df.Gender))\n",
    "gender"
   ]
  },
  {
   "cell_type": "markdown",
   "metadata": {},
   "source": [
    "#### Due to the large number of gender types, we will focus on just the top 4"
   ]
  },
  {
   "cell_type": "code",
   "execution_count": 168,
   "metadata": {},
   "outputs": [
    {
     "data": {
      "text/plain": [
       "Male                                                       17009\n",
       "Female                                                      1601\n",
       "Gender non-conforming                                        100\n",
       "Other                                                         95\n",
       "Male; Other                                                   80\n",
       "Female; Transgender                                           44\n",
       "Transgender                                                   35\n",
       "Male; Gender non-conforming                                   31\n",
       "Female; Gender non-conforming                                 23\n",
       "Male; Transgender                                              9\n",
       "Transgender; Gender non-conforming                             9\n",
       "Female; Transgender; Gender non-conforming                     8\n",
       "Male; Female                                                   6\n",
       "Male; Female; Transgender; Gender non-conforming; Other        4\n",
       "Gender non-conforming; Other                                   3\n",
       "Male; Female; Transgender; Gender non-conforming               2\n",
       "Male; Female; Transgender                                      2\n",
       "Male; Gender non-conforming; Other                             1\n",
       "Male; Transgender; Other                                       1\n",
       "Male; Transgender; Gender non-conforming                       1\n",
       "Male; Female; Transgender; Other                               1\n",
       "Male; Female; Gender non-conforming                            1\n",
       "Female; Transgender; Other                                     1\n",
       "Male; Female; Gender non-conforming; Other                     1\n",
       "Female; Other                                                  1\n",
       "dtype: int64"
      ]
     },
     "execution_count": 168,
     "metadata": {},
     "output_type": "execute_result"
    }
   ],
   "source": [
    "gender = pd.value_counts(selected_countries_df['Gender'].values, sort=True)\n",
    "gender\n"
   ]
  },
  {
   "cell_type": "markdown",
   "metadata": {},
   "source": [
    "#### Top 4 genders are 'Male', 'Female', 'Other', 'Gender non-conforming'"
   ]
  },
  {
   "cell_type": "code",
   "execution_count": 175,
   "metadata": {},
   "outputs": [
    {
     "data": {
      "text/plain": [
       "Male                     17009\n",
       "Female                    1601\n",
       "Gender non-conforming      100\n",
       "Other                       95\n",
       "dtype: int64"
      ]
     },
     "execution_count": 175,
     "metadata": {},
     "output_type": "execute_result"
    }
   ],
   "source": [
    "top_gender_types_df = selected_countries_df[selected_countries_df['Gender'].map(\n",
    "        lambda x : x in ('Male','Female', 'Other', 'Gender non-conforming'))]\n",
    "top_gender_values = pd.value_counts(top_gender_types_df['Gender'].values, sort=True)\n",
    "top_gender_values"
   ]
  },
  {
   "cell_type": "code",
   "execution_count": 217,
   "metadata": {},
   "outputs": [
    {
     "data": {
      "image/png": "[encoded data removed]",
      "text/plain": [
       "<Figure size 1440x504 with 1 Axes>"
      ]
     },
     "metadata": {
      "needs_background": "light"
     },
     "output_type": "display_data"
    }
   ],
   "source": [
    "top_gender_values = pd.value_counts(top_gender_types_df['Gender'].values, sort=True)/len(selected_countries_df)*100\n",
    "\n",
    "plt.figure(figsize = (20, 7))\n",
    "top_gender_values.plot(kind='bar', title='Gender Distribution by Percentage')\n",
    "plt.xlabel('Gender')\n",
    "plt.ylabel('Percentage')\n",
    "plt.show()\n"
   ]
  },
  {
   "cell_type": "markdown",
   "metadata": {},
   "source": [
    "#### We notice that there are 4 times more Males than Females in the industry. \n",
    "#### It's quite clear that females are quite underrepresented. \n",
    "#### Let's see if the difference varies by country"
   ]
  },
  {
   "cell_type": "code",
   "execution_count": 177,
   "metadata": {
    "scrolled": false
   },
   "outputs": [
    {
     "data": {
      "text/html": [
       "<div>\n",
       "<style scoped>\n",
       "    .dataframe tbody tr th:only-of-type {\n",
       "        vertical-align: middle;\n",
       "    }\n",
       "\n",
       "    .dataframe tbody tr th {\n",
       "        vertical-align: top;\n",
       "    }\n",
       "\n",
       "    .dataframe thead th {\n",
       "        text-align: right;\n",
       "    }\n",
       "</style>\n",
       "<table border=\"1\" class=\"dataframe\">\n",
       "  <thead>\n",
       "    <tr style=\"text-align: right;\">\n",
       "      <th>Country</th>\n",
       "      <th>Canada</th>\n",
       "      <th>Germany</th>\n",
       "      <th>India</th>\n",
       "      <th>United Kingdom</th>\n",
       "      <th>United States</th>\n",
       "    </tr>\n",
       "    <tr>\n",
       "      <th>Gender</th>\n",
       "      <th></th>\n",
       "      <th></th>\n",
       "      <th></th>\n",
       "      <th></th>\n",
       "      <th></th>\n",
       "    </tr>\n",
       "  </thead>\n",
       "  <tbody>\n",
       "    <tr>\n",
       "      <th>Female</th>\n",
       "      <td>0.067</td>\n",
       "      <td>0.037</td>\n",
       "      <td>0.044</td>\n",
       "      <td>0.050</td>\n",
       "      <td>0.074</td>\n",
       "    </tr>\n",
       "    <tr>\n",
       "      <th>Gender non-conforming</th>\n",
       "      <td>0.004</td>\n",
       "      <td>0.004</td>\n",
       "      <td>0.001</td>\n",
       "      <td>0.004</td>\n",
       "      <td>0.005</td>\n",
       "    </tr>\n",
       "    <tr>\n",
       "      <th>Male</th>\n",
       "      <td>0.648</td>\n",
       "      <td>0.661</td>\n",
       "      <td>0.466</td>\n",
       "      <td>0.672</td>\n",
       "      <td>0.650</td>\n",
       "    </tr>\n",
       "    <tr>\n",
       "      <th>Other</th>\n",
       "      <td>0.003</td>\n",
       "      <td>0.005</td>\n",
       "      <td>0.001</td>\n",
       "      <td>0.003</td>\n",
       "      <td>0.004</td>\n",
       "    </tr>\n",
       "  </tbody>\n",
       "</table>\n",
       "</div>"
      ],
      "text/plain": [
       "Country                Canada  Germany  India  United Kingdom  United States\n",
       "Gender                                                                      \n",
       "Female                  0.067    0.037  0.044           0.050          0.074\n",
       "Gender non-conforming   0.004    0.004  0.001           0.004          0.005\n",
       "Male                    0.648    0.661  0.466           0.672          0.650\n",
       "Other                   0.003    0.005  0.001           0.003          0.004"
      ]
     },
     "execution_count": 177,
     "metadata": {},
     "output_type": "execute_result"
    }
   ],
   "source": [
    "top_gender_values_by_country = groupByCountry('Gender', top_gender_types_df)\n",
    "top_gender_values_by_country\n",
    "\n"
   ]
  },
  {
   "cell_type": "code",
   "execution_count": 229,
   "metadata": {},
   "outputs": [
    {
     "data": {
      "text/plain": [
       "<matplotlib.legend.Legend at 0x7ffac094fed0>"
      ]
     },
     "execution_count": 229,
     "metadata": {},
     "output_type": "execute_result"
    },
    {
     "data": {
      "text/plain": [
       "<Figure size 1440x720 with 0 Axes>"
      ]
     },
     "metadata": {},
     "output_type": "display_data"
    },
    {
     "data": {
      "image/png": "[encoded data removed]",
      "text/plain": [
       "<Figure size 432x288 with 1 Axes>"
      ]
     },
     "metadata": {
      "needs_background": "light"
     },
     "output_type": "display_data"
    }
   ],
   "source": [
    "plt.figure(figsize = (20, 10))\n",
    "\n",
    "top_gender_values_by_country.plot(kind='bar')\n",
    "\n",
    "plt.title('Gender Distribution by Country')\n",
    "plt.xlabel('Gender')\n",
    "plt.ylabel('Proportion')\n",
    "plt.legend(title='Country')\n"
   ]
  },
  {
   "cell_type": "markdown",
   "metadata": {},
   "source": [
    "#### We see that in 4 of the top 5 countries, about 65% of developers are Male. \n",
    "#### This percentage is quite lower in India at about 46%\n",
    "#### United states has twice more Female developers than Germany"
   ]
  },
  {
   "cell_type": "markdown",
   "metadata": {},
   "source": [
    "#### 5. What kind of formal education do developers tend to have? "
   ]
  },
  {
   "cell_type": "code",
   "execution_count": 235,
   "metadata": {},
   "outputs": [
    {
     "data": {
      "text/plain": [
       "Bachelor's degree                                                    0.462531\n",
       "Master's degree                                                      0.195675\n",
       "Some college/university study without earning a bachelor's degree    0.160814\n",
       "Secondary school                                                     0.104657\n",
       "Doctoral degree                                                      0.026219\n",
       "I prefer not to answer                                               0.019072\n",
       "Primary/elementary school                                            0.018598\n",
       "Professional degree                                                  0.006564\n",
       "I never completed any formal education                               0.005871\n",
       "dtype: float64"
      ]
     },
     "execution_count": 235,
     "metadata": {},
     "output_type": "execute_result"
    }
   ],
   "source": [
    "education = pd.value_counts(selected_countries_df['FormalEducation'].values, sort=True)/len(selected_countries_df)\n",
    "education"
   ]
  },
  {
   "cell_type": "markdown",
   "metadata": {},
   "source": [
    "#### We notice that almost half of developer's earn a bachelor's degree and about 20% have earned a Master's degree"
   ]
  },
  {
   "cell_type": "code",
   "execution_count": 230,
   "metadata": {},
   "outputs": [
    {
     "data": {
      "image/png": "[encoded data removed]",
      "text/plain": [
       "<Figure size 1440x720 with 1 Axes>"
      ]
     },
     "metadata": {
      "needs_background": "light"
     },
     "output_type": "display_data"
    }
   ],
   "source": [
    "plt.figure(figsize = (20, 10))\n",
    "\n",
    "formal_education = pd.value_counts(selected_countries_df['FormalEducation'].values, sort=True)/len(selected_countries_df)*100\n",
    "\n",
    "formal_education.plot(kind='bar', title='Formal Education by Percentage')\n",
    "plt.xlabel('Formal Education')\n",
    "plt.ylabel('Percentage')\n",
    "plt.show()"
   ]
  },
  {
   "cell_type": "code",
   "execution_count": 206,
   "metadata": {
    "scrolled": false
   },
   "outputs": [
    {
     "data": {
      "text/html": [
       "<div>\n",
       "<style scoped>\n",
       "    .dataframe tbody tr th:only-of-type {\n",
       "        vertical-align: middle;\n",
       "    }\n",
       "\n",
       "    .dataframe tbody tr th {\n",
       "        vertical-align: top;\n",
       "    }\n",
       "\n",
       "    .dataframe thead th {\n",
       "        text-align: right;\n",
       "    }\n",
       "</style>\n",
       "<table border=\"1\" class=\"dataframe\">\n",
       "  <thead>\n",
       "    <tr style=\"text-align: right;\">\n",
       "      <th>Country</th>\n",
       "      <th>Canada</th>\n",
       "      <th>Germany</th>\n",
       "      <th>India</th>\n",
       "      <th>United Kingdom</th>\n",
       "      <th>United States</th>\n",
       "    </tr>\n",
       "    <tr>\n",
       "      <th>FormalEducation</th>\n",
       "      <th></th>\n",
       "      <th></th>\n",
       "      <th></th>\n",
       "      <th></th>\n",
       "      <th></th>\n",
       "    </tr>\n",
       "  </thead>\n",
       "  <tbody>\n",
       "    <tr>\n",
       "      <th>Bachelor's degree</th>\n",
       "      <td>0.452</td>\n",
       "      <td>0.230</td>\n",
       "      <td>0.613</td>\n",
       "      <td>0.425</td>\n",
       "      <td>0.495</td>\n",
       "    </tr>\n",
       "    <tr>\n",
       "      <th>Doctoral degree</th>\n",
       "      <td>0.017</td>\n",
       "      <td>0.037</td>\n",
       "      <td>0.003</td>\n",
       "      <td>0.041</td>\n",
       "      <td>0.029</td>\n",
       "    </tr>\n",
       "    <tr>\n",
       "      <th>I never completed any formal education</th>\n",
       "      <td>0.006</td>\n",
       "      <td>0.005</td>\n",
       "      <td>0.009</td>\n",
       "      <td>0.007</td>\n",
       "      <td>0.004</td>\n",
       "    </tr>\n",
       "    <tr>\n",
       "      <th>I prefer not to answer</th>\n",
       "      <td>0.020</td>\n",
       "      <td>0.026</td>\n",
       "      <td>0.024</td>\n",
       "      <td>0.013</td>\n",
       "      <td>0.016</td>\n",
       "    </tr>\n",
       "    <tr>\n",
       "      <th>Master's degree</th>\n",
       "      <td>0.107</td>\n",
       "      <td>0.304</td>\n",
       "      <td>0.212</td>\n",
       "      <td>0.195</td>\n",
       "      <td>0.167</td>\n",
       "    </tr>\n",
       "    <tr>\n",
       "      <th>Primary/elementary school</th>\n",
       "      <td>0.025</td>\n",
       "      <td>0.010</td>\n",
       "      <td>0.009</td>\n",
       "      <td>0.016</td>\n",
       "      <td>0.026</td>\n",
       "    </tr>\n",
       "    <tr>\n",
       "      <th>Professional degree</th>\n",
       "      <td>0.008</td>\n",
       "      <td>0.008</td>\n",
       "      <td>0.010</td>\n",
       "      <td>0.006</td>\n",
       "      <td>0.004</td>\n",
       "    </tr>\n",
       "    <tr>\n",
       "      <th>Secondary school</th>\n",
       "      <td>0.099</td>\n",
       "      <td>0.234</td>\n",
       "      <td>0.076</td>\n",
       "      <td>0.118</td>\n",
       "      <td>0.067</td>\n",
       "    </tr>\n",
       "    <tr>\n",
       "      <th>Some college/university study without earning a bachelor's degree</th>\n",
       "      <td>0.266</td>\n",
       "      <td>0.146</td>\n",
       "      <td>0.044</td>\n",
       "      <td>0.178</td>\n",
       "      <td>0.192</td>\n",
       "    </tr>\n",
       "  </tbody>\n",
       "</table>\n",
       "</div>"
      ],
      "text/plain": [
       "Country                                             Canada  Germany  India  \\\n",
       "FormalEducation                                                              \n",
       "Bachelor's degree                                    0.452    0.230  0.613   \n",
       "Doctoral degree                                      0.017    0.037  0.003   \n",
       "I never completed any formal education               0.006    0.005  0.009   \n",
       "I prefer not to answer                               0.020    0.026  0.024   \n",
       "Master's degree                                      0.107    0.304  0.212   \n",
       "Primary/elementary school                            0.025    0.010  0.009   \n",
       "Professional degree                                  0.008    0.008  0.010   \n",
       "Secondary school                                     0.099    0.234  0.076   \n",
       "Some college/university study without earning a...   0.266    0.146  0.044   \n",
       "\n",
       "Country                                             United Kingdom  \\\n",
       "FormalEducation                                                      \n",
       "Bachelor's degree                                            0.425   \n",
       "Doctoral degree                                              0.041   \n",
       "I never completed any formal education                       0.007   \n",
       "I prefer not to answer                                       0.013   \n",
       "Master's degree                                              0.195   \n",
       "Primary/elementary school                                    0.016   \n",
       "Professional degree                                          0.006   \n",
       "Secondary school                                             0.118   \n",
       "Some college/university study without earning a...           0.178   \n",
       "\n",
       "Country                                             United States  \n",
       "FormalEducation                                                    \n",
       "Bachelor's degree                                           0.495  \n",
       "Doctoral degree                                             0.029  \n",
       "I never completed any formal education                      0.004  \n",
       "I prefer not to answer                                      0.016  \n",
       "Master's degree                                             0.167  \n",
       "Primary/elementary school                                   0.026  \n",
       "Professional degree                                         0.004  \n",
       "Secondary school                                            0.067  \n",
       "Some college/university study without earning a...          0.192  "
      ]
     },
     "execution_count": 206,
     "metadata": {},
     "output_type": "execute_result"
    }
   ],
   "source": [
    "formal_education_values_by_country = groupByCountry('FormalEducation')\n",
    "formal_education_values_by_country\n",
    "\n"
   ]
  },
  {
   "cell_type": "code",
   "execution_count": 231,
   "metadata": {},
   "outputs": [
    {
     "data": {
      "text/plain": [
       "<matplotlib.legend.Legend at 0x7ffac07f5c10>"
      ]
     },
     "execution_count": 231,
     "metadata": {},
     "output_type": "execute_result"
    },
    {
     "data": {
      "text/plain": [
       "<Figure size 1440x720 with 0 Axes>"
      ]
     },
     "metadata": {},
     "output_type": "display_data"
    },
    {
     "data": {
      "image/png": "[encoded data removed]",
      "text/plain": [
       "<Figure size 432x288 with 1 Axes>"
      ]
     },
     "metadata": {
      "needs_background": "light"
     },
     "output_type": "display_data"
    }
   ],
   "source": [
    "plt.figure(figsize = (20, 10))\n",
    "\n",
    "formal_education_values_by_country.plot(kind='bar')\n",
    "plt.title('Formal Education by Country')\n",
    "plt.xlabel('Formal Education')\n",
    "plt.ylabel('Proportion')\n",
    "plt.legend(title='Country')\n",
    "\n",
    "## We see "
   ]
  },
  {
   "cell_type": "markdown",
   "metadata": {},
   "source": [
    "#### Notice that developers tend to earn different degrees in different countries. In India, over 60% earn a Bachelor's degree while only 23% in Germany (less than half of India's percentage)\n",
    "#### Developers in India rarely earn Doctoral Degree (0.3%) compared to Germany and United States with over 10 times that amount\n",
    "#### 3 times more people earned Master's degree in Germany than Canada\n",
    "#### The top types of formal education in Canada was Bachelor's Degree, Some College/University and Master's degree\n",
    "#### The top types of formal education in Germany was Master's degree, Secondary School, and  Bachelor's Degree\n",
    "#### The top types of formal education in India was Bachelor's Degree, and Master's degree\n",
    "#### The top types of formal education in United Kingdom was Bachelor's Degree, Master's degree and Some College/University\n",
    "#### The top types of formal education in United States was Bachelor's Degree, Some College/University and Master's degree"
   ]
  },
  {
   "cell_type": "code",
   "execution_count": null,
   "metadata": {},
   "outputs": [],
   "source": []
  }
 ],
 "metadata": {
  "kernelspec": {
   "display_name": "Python 3",
   "language": "python",
   "name": "python3"
  },
  "language_info": {
   "codemirror_mode": {
    "name": "ipython",
    "version": 3
   },
   "file_extension": ".py",
   "mimetype": "text/x-python",
   "name": "python",
   "nbconvert_exporter": "python",
   "pygments_lexer": "ipython3",
   "version": "3.7.6"
  }
 },
 "nbformat": 4,
 "nbformat_minor": 4
}
